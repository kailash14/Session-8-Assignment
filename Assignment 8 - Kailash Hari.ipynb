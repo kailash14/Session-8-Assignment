{
 "cells": [
  {
   "cell_type": "markdown",
   "metadata": {},
   "source": [
    "#### 1) How-to-count-distance-to-the-previous-zero\n",
    "\n",
    "#### For each value, count the difference of the distance from the previous zero (or the start of the Series, whichever is closer) and if there are no previous zeros,print the position.\n",
    "\n",
    "#### Consider a DataFrame df where there is an integer column {'X':[7, 2, 0, 3, 4, 2, 5, 0, 3, 4]}\n",
    "#### The values should therefore be [1, 2, 0, 1, 2, 3, 4, 0, 1, 2]. Make this a new column 'Y'."
   ]
  },
  {
   "cell_type": "code",
   "execution_count": 2,
   "metadata": {},
   "outputs": [],
   "source": [
    "import pandas as pd\n",
    "import numpy as np"
   ]
  },
  {
   "cell_type": "code",
   "execution_count": 3,
   "metadata": {},
   "outputs": [
    {
     "data": {
      "text/plain": [
       "[1, 2, 0, 1, 2, 3, 4, 0, 1, 2]"
      ]
     },
     "execution_count": 3,
     "metadata": {},
     "output_type": "execute_result"
    }
   ],
   "source": [
    "df = pd.DataFrame({'X': [7, 2, 0, 3, 4, 2, 5, 0, 3, 4]})\n",
    "\n",
    "i0 = np.r_[-1, (df['X'] == 0).nonzero()[0]] \n",
    "x = np.arange(len(df))\n",
    "df['Y'] = x - i0[np.searchsorted(i0 - 1, x) - 1]\n",
    "\n",
    "list(df['Y'])"
   ]
  },
  {
   "cell_type": "markdown",
   "metadata": {},
   "source": [
    "#### 2) Create a DatetimeIndex that contains each business day of 2015 and use it to index a Series of random numbers. "
   ]
  },
  {
   "cell_type": "code",
   "execution_count": 4,
   "metadata": {},
   "outputs": [
    {
     "data": {
      "text/plain": [
       "2015-01-01    0.192593\n",
       "2015-01-02    0.168004\n",
       "2015-01-05    0.188400\n",
       "2015-01-06    0.715939\n",
       "2015-01-07    0.509268\n",
       "2015-01-08    0.558456\n",
       "2015-01-09    0.388316\n",
       "2015-01-12    0.756914\n",
       "2015-01-13    0.146467\n",
       "2015-01-14    0.658520\n",
       "2015-01-15    0.214884\n",
       "2015-01-16    0.067398\n",
       "2015-01-19    0.023929\n",
       "2015-01-20    0.300681\n",
       "2015-01-21    0.018447\n",
       "2015-01-22    0.338737\n",
       "2015-01-23    0.883497\n",
       "2015-01-26    0.439172\n",
       "2015-01-27    0.344831\n",
       "2015-01-28    0.490607\n",
       "2015-01-29    0.734982\n",
       "2015-01-30    0.646846\n",
       "2015-02-02    0.251379\n",
       "2015-02-03    0.385250\n",
       "2015-02-04    0.790170\n",
       "2015-02-05    0.821533\n",
       "2015-02-06    0.466551\n",
       "2015-02-09    0.812653\n",
       "2015-02-10    0.072363\n",
       "2015-02-11    0.859169\n",
       "                ...   \n",
       "2015-11-20    0.101648\n",
       "2015-11-23    0.916957\n",
       "2015-11-24    0.340964\n",
       "2015-11-25    0.711837\n",
       "2015-11-26    0.626053\n",
       "2015-11-27    0.891467\n",
       "2015-11-30    0.353707\n",
       "2015-12-01    0.093189\n",
       "2015-12-02    0.957169\n",
       "2015-12-03    0.749917\n",
       "2015-12-04    0.563006\n",
       "2015-12-07    0.385645\n",
       "2015-12-08    0.092710\n",
       "2015-12-09    0.141604\n",
       "2015-12-10    0.778899\n",
       "2015-12-11    0.783681\n",
       "2015-12-14    0.943659\n",
       "2015-12-15    0.215405\n",
       "2015-12-16    0.308940\n",
       "2015-12-17    0.995520\n",
       "2015-12-18    0.444529\n",
       "2015-12-21    0.505339\n",
       "2015-12-22    0.708337\n",
       "2015-12-23    0.768326\n",
       "2015-12-24    0.681568\n",
       "2015-12-25    0.177496\n",
       "2015-12-28    0.267408\n",
       "2015-12-29    0.232353\n",
       "2015-12-30    0.344458\n",
       "2015-12-31    0.307731\n",
       "Freq: B, Length: 261, dtype: float64"
      ]
     },
     "execution_count": 4,
     "metadata": {},
     "output_type": "execute_result"
    }
   ],
   "source": [
    "DateTimeIndex = pd.date_range(start='2015-01-01', end='2015-12-31', freq='B') \n",
    "s = pd.Series(np.random.rand(len(DateTimeIndex)), index=DateTimeIndex)\n",
    "s"
   ]
  },
  {
   "cell_type": "markdown",
   "metadata": {},
   "source": [
    "#### 3) Find the sum of the values in s for every Wednesday."
   ]
  },
  {
   "cell_type": "code",
   "execution_count": 5,
   "metadata": {},
   "outputs": [
    {
     "data": {
      "text/plain": [
       "24.49043449159898"
      ]
     },
     "execution_count": 5,
     "metadata": {},
     "output_type": "execute_result"
    }
   ],
   "source": [
    "s[DateTimeIndex.weekday == 3].sum()"
   ]
  },
  {
   "cell_type": "markdown",
   "metadata": {},
   "source": [
    "#### 4) Average For each calendar month."
   ]
  },
  {
   "cell_type": "code",
   "execution_count": 6,
   "metadata": {},
   "outputs": [
    {
     "data": {
      "text/plain": [
       "2015-01-31    0.399404\n",
       "2015-02-28    0.526336\n",
       "2015-03-31    0.610697\n",
       "2015-04-30    0.390021\n",
       "2015-05-31    0.489684\n",
       "2015-06-30    0.434757\n",
       "2015-07-31    0.557970\n",
       "2015-08-31    0.541566\n",
       "2015-09-30    0.469229\n",
       "2015-10-31    0.532913\n",
       "2015-11-30    0.511294\n",
       "2015-12-31    0.497691\n",
       "Freq: M, dtype: float64"
      ]
     },
     "execution_count": 6,
     "metadata": {},
     "output_type": "execute_result"
    }
   ],
   "source": [
    "s.resample('M').mean()"
   ]
  },
  {
   "cell_type": "markdown",
   "metadata": {},
   "source": [
    "#### 5) For each group of four consecutive calendar months in s, find the date on which the highest value occurred."
   ]
  },
  {
   "cell_type": "code",
   "execution_count": 8,
   "metadata": {},
   "outputs": [
    {
     "data": {
      "text/plain": [
       "2015-01-31   2015-01-23\n",
       "2015-05-31   2015-02-12\n",
       "2015-09-30   2015-08-11\n",
       "2016-01-31   2015-12-17\n",
       "dtype: datetime64[ns]"
      ]
     },
     "execution_count": 8,
     "metadata": {},
     "output_type": "execute_result"
    }
   ],
   "source": [
    "s.groupby(pd.Grouper(freq='4M')).idxmax()"
   ]
  }
 ],
 "metadata": {
  "kernelspec": {
   "display_name": "Python 3",
   "language": "python",
   "name": "python3"
  },
  "language_info": {
   "codemirror_mode": {
    "name": "ipython",
    "version": 3
   },
   "file_extension": ".py",
   "mimetype": "text/x-python",
   "name": "python",
   "nbconvert_exporter": "python",
   "pygments_lexer": "ipython3",
   "version": "3.6.4"
  }
 },
 "nbformat": 4,
 "nbformat_minor": 2
}
